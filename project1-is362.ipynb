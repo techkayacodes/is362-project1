{
  "metadata": {
    "kernelspec": {
      "name": "python",
      "display_name": "Python (Pyodide)",
      "language": "python"
    },
    "language_info": {
      "codemirror_mode": {
        "name": "python",
        "version": 3
      },
      "file_extension": ".py",
      "mimetype": "text/x-python",
      "name": "python",
      "nbconvert_exporter": "python",
      "pygments_lexer": "ipython3",
      "version": "3.8"
    }
  },
  "nbformat_minor": 4,
  "nbformat": 4,
  "cells": [
    {
      "cell_type": "code",
      "source": "# Import the pandas library\nimport pandas as pd\n\n# Hypothetical cumulative miles data\ncumulative_miles = [55, 120, 190, 260, 330, 400]\n\n# Create a pandas Series object from the cumulative miles\ncumulative_miles_series = pd.Series(cumulative_miles)\n\n# Calculate daily miles ridden by subtracting the previous day's cumulative miles from the current day's\n# The first day's miles are considered as is since there's no previous day\ndaily_miles = cumulative_miles_series.diff().fillna(cumulative_miles_series[0])\n\n# Display the cumulative miles and daily miles for verification\nprint(\"Cumulative Miles:\")\nprint(cumulative_miles_series)\nprint(\"\\nDaily Miles Ridden:\")\nprint(daily_miles)\n",
      "metadata": {
        "trusted": true
      },
      "outputs": [
        {
          "name": "stdout",
          "text": "Cumulative Miles:\n0     55\n1    120\n2    190\n3    260\n4    330\n5    400\ndtype: int64\n\nDaily Miles Ridden:\n0    55.0\n1    65.0\n2    70.0\n3    70.0\n4    70.0\n5    70.0\ndtype: float64\n",
          "output_type": "stream"
        }
      ],
      "execution_count": 1
    },
    {
      "cell_type": "code",
      "source": "",
      "metadata": {
        "trusted": true
      },
      "outputs": [],
      "execution_count": null
    }
  ]
}